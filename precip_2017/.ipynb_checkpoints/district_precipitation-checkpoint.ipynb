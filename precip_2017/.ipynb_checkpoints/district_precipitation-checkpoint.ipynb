{
 "cells": [
  {
   "cell_type": "code",
   "execution_count": 3,
   "metadata": {
    "pycharm": {
     "is_executing": false,
     "name": "#%%\n"
    }
   },
   "outputs": [],
   "source": [
    "import csv\n",
    "import pandas as pd\n",
    "import requests\n",
    "import googlemaps\n",
    "from datetime import datetime\n",
    "import numpy as np\n",
    "from statistics import mean "
   ]
  },
  {
   "cell_type": "code",
   "execution_count": 5,
   "metadata": {
    "pycharm": {
     "is_executing": false,
     "name": "#%%\n"
    }
   },
   "outputs": [],
   "source": [
    "districts = pd.read_csv(\"district_list_original.csv\")"
   ]
  },
  {
   "cell_type": "code",
   "execution_count": null,
   "metadata": {
    "pycharm": {
     "is_executing": false,
     "name": "#%%\n"
    }
   },
   "outputs": [
    {
     "name": "stdout",
     "output_type": "stream",
     "text": [
      "0\n",
      "[{'address_components': [{'long_name': 'Sangli', 'short_name': 'Sangli', 'types': ['locality', 'political']}, {'long_name': 'Sangli', 'short_name': 'Sangli', 'types': ['administrative_area_level_2', 'political']}, {'long_name': 'Maharashtra', 'short_name': 'MH', 'types': ['administrative_area_level_1', 'political']}, {'long_name': 'India', 'short_name': 'IN', 'types': ['country', 'political']}], 'formatted_address': 'Sangli, Maharashtra, India', 'geometry': {'bounds': {'northeast': {'lat': 16.8902202, 'lng': 74.6289252}, 'southwest': {'lat': 16.8183444, 'lng': 74.53927519999999}}, 'location': {'lat': 16.8523973, 'lng': 74.5814773}, 'location_type': 'APPROXIMATE', 'viewport': {'northeast': {'lat': 16.8902202, 'lng': 74.6289252}, 'southwest': {'lat': 16.8183444, 'lng': 74.53927519999999}}}, 'place_id': 'ChIJ62Dwh4EMwTsRs93BzVMfkTc', 'types': ['locality', 'political']}]\n",
      "1\n",
      "[{'address_components': [{'long_name': 'Solapur', 'short_name': 'Solapur', 'types': ['locality', 'political']}, {'long_name': 'Solapur', 'short_name': 'Solapur', 'types': ['administrative_area_level_2', 'political']}, {'long_name': 'Maharashtra', 'short_name': 'MH', 'types': ['administrative_area_level_1', 'political']}, {'long_name': 'India', 'short_name': 'IN', 'types': ['country', 'political']}], 'formatted_address': 'Solapur, Maharashtra, India', 'geometry': {'bounds': {'northeast': {'lat': 17.7227221, 'lng': 75.96410759999999}, 'southwest': {'lat': 17.6002165, 'lng': 75.873127}}, 'location': {'lat': 17.6599188, 'lng': 75.9063906}, 'location_type': 'APPROXIMATE', 'viewport': {'northeast': {'lat': 17.7227221, 'lng': 75.96410759999999}, 'southwest': {'lat': 17.6002165, 'lng': 75.873127}}}, 'place_id': 'ChIJ1cVKtYLQxTsR0BA3yOadcTw', 'types': ['locality', 'political']}]\n",
      "2\n",
      "[{'address_components': [{'long_name': 'Kolhapur', 'short_name': 'Kolhapur', 'types': ['locality', 'political']}, {'long_name': 'Kolhapur', 'short_name': 'Kolhapur', 'types': ['administrative_area_level_2', 'political']}, {'long_name': 'Maharashtra', 'short_name': 'MH', 'types': ['administrative_area_level_1', 'political']}, {'long_name': 'India', 'short_name': 'IN', 'types': ['country', 'political']}], 'formatted_address': 'Kolhapur, Maharashtra, India', 'geometry': {'bounds': {'northeast': {'lat': 16.7672344, 'lng': 74.2967607}, 'southwest': {'lat': 16.6497027, 'lng': 74.1809751}}, 'location': {'lat': 16.7049873, 'lng': 74.24325270000001}, 'location_type': 'APPROXIMATE', 'viewport': {'northeast': {'lat': 16.7672344, 'lng': 74.2967607}, 'southwest': {'lat': 16.6497027, 'lng': 74.1809751}}}, 'place_id': 'ChIJKXrA3gwAwTsRL-RSKWTq6Ow', 'types': ['locality', 'political']}]\n",
      "3\n",
      "[{'address_components': [{'long_name': 'Osmanabad', 'short_name': 'Osmanabad', 'types': ['locality', 'political']}, {'long_name': 'Osmanabad', 'short_name': 'Osmanabad', 'types': ['administrative_area_level_2', 'political']}, {'long_name': 'Maharashtra', 'short_name': 'MH', 'types': ['administrative_area_level_1', 'political']}, {'long_name': 'India', 'short_name': 'IN', 'types': ['country', 'political']}, {'long_name': '413501', 'short_name': '413501', 'types': ['postal_code']}], 'formatted_address': 'Osmanabad, Maharashtra 413501, India', 'geometry': {'bounds': {'northeast': {'lat': 18.2344058, 'lng': 76.0698237}, 'southwest': {'lat': 18.1512348, 'lng': 76.0190393}}, 'location': {'lat': 18.1860659, 'lng': 76.0419409}, 'location_type': 'APPROXIMATE', 'viewport': {'northeast': {'lat': 18.2344058, 'lng': 76.0698237}, 'southwest': {'lat': 18.1512348, 'lng': 76.0190393}}}, 'place_id': 'ChIJk6bJiSuixTsRvO6_2K2H7Io', 'types': ['locality', 'political']}]\n",
      "4\n",
      "[{'address_components': [{'long_name': 'Satara', 'short_name': 'Satara', 'types': ['locality', 'political']}, {'long_name': 'Satara', 'short_name': 'Satara', 'types': ['administrative_area_level_2', 'political']}, {'long_name': 'Maharashtra', 'short_name': 'MH', 'types': ['administrative_area_level_1', 'political']}, {'long_name': 'India', 'short_name': 'IN', 'types': ['country', 'political']}], 'formatted_address': 'Satara, Maharashtra, India', 'geometry': {'bounds': {'northeast': {'lat': 17.7167213, 'lng': 74.06784999999999}, 'southwest': {'lat': 17.6323532, 'lng': 73.9686727}}, 'location': {'lat': 17.6804639, 'lng': 74.018261}, 'location_type': 'APPROXIMATE', 'viewport': {'northeast': {'lat': 17.7167213, 'lng': 74.06784999999999}, 'southwest': {'lat': 17.6323532, 'lng': 73.9686727}}}, 'place_id': 'ChIJvWvZCL45wjsRmrG0n1XfSl8', 'types': ['locality', 'political']}]\n",
      "5\n",
      "[{'address_components': [{'long_name': 'Jalna', 'short_name': 'Jalna', 'types': ['locality', 'political']}, {'long_name': 'Jalna', 'short_name': 'Jalna', 'types': ['administrative_area_level_2', 'political']}, {'long_name': 'Maharashtra', 'short_name': 'MH', 'types': ['administrative_area_level_1', 'political']}, {'long_name': 'India', 'short_name': 'IN', 'types': ['country', 'political']}], 'formatted_address': 'Jalna, Maharashtra, India', 'geometry': {'bounds': {'northeast': {'lat': 19.8857995, 'lng': 75.94522479999999}, 'southwest': {'lat': 19.797677, 'lng': 75.8339024}}, 'location': {'lat': 19.8296893, 'lng': 75.88003049999999}, 'location_type': 'APPROXIMATE', 'viewport': {'northeast': {'lat': 19.8857995, 'lng': 75.94522479999999}, 'southwest': {'lat': 19.797677, 'lng': 75.8339024}}}, 'place_id': 'ChIJ3W5XO0NX2jsRBLk3lLXd_NA', 'types': ['locality', 'political']}]\n",
      "6\n",
      "[{'address_components': [{'long_name': 'Dhule', 'short_name': 'Dhule', 'types': ['locality', 'political']}, {'long_name': 'Dhule', 'short_name': 'Dhule', 'types': ['administrative_area_level_2', 'political']}, {'long_name': 'Maharashtra', 'short_name': 'MH', 'types': ['administrative_area_level_1', 'political']}, {'long_name': 'India', 'short_name': 'IN', 'types': ['country', 'political']}], 'formatted_address': 'Dhule, Maharashtra, India', 'geometry': {'bounds': {'northeast': {'lat': 20.9434731, 'lng': 74.8036856}, 'southwest': {'lat': 20.8279773, 'lng': 74.724036}}, 'location': {'lat': 20.9042201, 'lng': 74.7748979}, 'location_type': 'APPROXIMATE', 'viewport': {'northeast': {'lat': 20.9434731, 'lng': 74.8036856}, 'southwest': {'lat': 20.8279773, 'lng': 74.724036}}}, 'place_id': 'ChIJR7txxfLF3jsRHMvXuRGuJ1g', 'types': ['locality', 'political']}]\n",
      "7\n",
      "[{'address_components': [{'long_name': 'Aurangabad', 'short_name': 'Aurangabad', 'types': ['locality', 'political']}, {'long_name': 'Aurangabad', 'short_name': 'Aurangabad', 'types': ['administrative_area_level_2', 'political']}, {'long_name': 'Maharashtra', 'short_name': 'MH', 'types': ['administrative_area_level_1', 'political']}, {'long_name': 'India', 'short_name': 'IN', 'types': ['country', 'political']}], 'formatted_address': 'Aurangabad, Maharashtra, India', 'geometry': {'bounds': {'northeast': {'lat': 19.9365799, 'lng': 75.4171408}, 'southwest': {'lat': 19.8036126, 'lng': 75.1932621}}, 'location': {'lat': 19.8761653, 'lng': 75.3433139}, 'location_type': 'APPROXIMATE', 'viewport': {'northeast': {'lat': 19.9365799, 'lng': 75.4171408}, 'southwest': {'lat': 19.8036126, 'lng': 75.1932621}}}, 'place_id': 'ChIJY7xpoxWY2zsRPqeiKYtTLXE', 'types': ['locality', 'political']}]\n",
      "8\n",
      "[{'address_components': [{'long_name': 'Bardhaman', 'short_name': 'Bardhaman', 'types': ['locality', 'political']}, {'long_name': 'Bardhaman', 'short_name': 'Bardhaman', 'types': ['administrative_area_level_2', 'political']}, {'long_name': 'West Bengal', 'short_name': 'WB', 'types': ['administrative_area_level_1', 'political']}, {'long_name': 'India', 'short_name': 'IN', 'types': ['country', 'political']}], 'formatted_address': 'Bardhaman, West Bengal, India', 'geometry': {'bounds': {'northeast': {'lat': 23.2781488, 'lng': 87.90195469999999}, 'southwest': {'lat': 23.2142926, 'lng': 87.8305436}}, 'location': {'lat': 23.2324214, 'lng': 87.8614793}, 'location_type': 'APPROXIMATE', 'viewport': {'northeast': {'lat': 23.2781488, 'lng': 87.90195469999999}, 'southwest': {'lat': 23.2142926, 'lng': 87.8305436}}}, 'partial_match': True, 'place_id': 'ChIJ_V5-6tFJ-DkRDosfUgoa50w', 'types': ['locality', 'political']}]\n",
      "9\n",
      "[{'address_components': [{'long_name': 'Sitamarhi', 'short_name': 'Sitamarhi', 'types': ['locality', 'political']}, {'long_name': 'Sitamarhi', 'short_name': 'Sitamarhi', 'types': ['administrative_area_level_2', 'political']}, {'long_name': 'Bihar', 'short_name': 'BR', 'types': ['administrative_area_level_1', 'political']}, {'long_name': 'India', 'short_name': 'IN', 'types': ['country', 'political']}], 'formatted_address': 'Sitamarhi, Bihar, India', 'geometry': {'bounds': {'northeast': {'lat': 26.6075986, 'lng': 85.54061130000001}, 'southwest': {'lat': 26.5556767, 'lng': 85.4653609}}, 'location': {'lat': 26.5952476, 'lng': 85.4808393}, 'location_type': 'APPROXIMATE', 'viewport': {'northeast': {'lat': 26.6075986, 'lng': 85.54061130000001}, 'southwest': {'lat': 26.5556767, 'lng': 85.4653609}}}, 'place_id': 'ChIJnUI50Nfw7DkRBM1uAUMaOCU', 'types': ['locality', 'political']}]\n",
      "10\n",
      "[{'address_components': [{'long_name': 'Samastipur', 'short_name': 'Samastipur', 'types': ['locality', 'political']}, {'long_name': 'Samastipur', 'short_name': 'Samastipur', 'types': ['administrative_area_level_2', 'political']}, {'long_name': 'Bihar', 'short_name': 'BR', 'types': ['administrative_area_level_1', 'political']}, {'long_name': 'India', 'short_name': 'IN', 'types': ['country', 'political']}], 'formatted_address': 'Samastipur, Bihar, India', 'geometry': {'bounds': {'northeast': {'lat': 25.8809732, 'lng': 85.8088124}, 'southwest': {'lat': 25.8407723, 'lng': 85.74125289999999}}, 'location': {'lat': 25.8629679, 'lng': 85.7810263}, 'location_type': 'APPROXIMATE', 'viewport': {'northeast': {'lat': 25.8809732, 'lng': 85.8088124}, 'southwest': {'lat': 25.8407723, 'lng': 85.74125289999999}}}, 'place_id': 'ChIJ3b1C-5CQ7TkRvTt0hbXbvGc', 'types': ['locality', 'political']}]\n"
     ]
    },
    {
     "name": "stdout",
     "output_type": "stream",
     "text": [
      "11\n",
      "[{'address_components': [{'long_name': 'Muzaffarpur', 'short_name': 'Muzaffarpur', 'types': ['locality', 'political']}, {'long_name': 'Muzaffarpur', 'short_name': 'Muzaffarpur', 'types': ['administrative_area_level_2', 'political']}, {'long_name': 'Bihar', 'short_name': 'BR', 'types': ['administrative_area_level_1', 'political']}, {'long_name': 'India', 'short_name': 'IN', 'types': ['country', 'political']}], 'formatted_address': 'Muzaffarpur, Bihar, India', 'geometry': {'bounds': {'northeast': {'lat': 26.1651448, 'lng': 85.43174739999999}, 'southwest': {'lat': 26.0756724, 'lng': 85.34068119999999}}, 'location': {'lat': 26.1195629, 'lng': 85.3910581}, 'location_type': 'APPROXIMATE', 'viewport': {'northeast': {'lat': 26.1651448, 'lng': 85.43174739999999}, 'southwest': {'lat': 26.0756724, 'lng': 85.34068119999999}}}, 'place_id': 'ChIJKVUXo-gQ7TkRnXUPaBnZwgc', 'types': ['locality', 'political']}]\n",
      "12\n",
      "[{'address_components': [{'long_name': 'Khagaria', 'short_name': 'Khagaria', 'types': ['locality', 'political']}, {'long_name': 'Khagaria', 'short_name': 'Khagaria', 'types': ['administrative_area_level_2', 'political']}, {'long_name': 'Bihar', 'short_name': 'BR', 'types': ['administrative_area_level_1', 'political']}, {'long_name': 'India', 'short_name': 'IN', 'types': ['country', 'political']}], 'formatted_address': 'Khagaria, Bihar, India', 'geometry': {'bounds': {'northeast': {'lat': 25.5215578, 'lng': 86.4993526}, 'southwest': {'lat': 25.4986302, 'lng': 86.45226579999999}}, 'location': {'lat': 25.5111515, 'lng': 86.476908}, 'location_type': 'APPROXIMATE', 'viewport': {'northeast': {'lat': 25.5215578, 'lng': 86.4993526}, 'southwest': {'lat': 25.4986302, 'lng': 86.45226579999999}}}, 'place_id': 'ChIJbTe_x4rk8TkRt2cfHwQB5cY', 'types': ['locality', 'political']}]\n",
      "13\n",
      "[{'address_components': [{'long_name': 'Begusarai', 'short_name': 'Begusarai', 'types': ['locality', 'political']}, {'long_name': 'Begusarai', 'short_name': 'Begusarai', 'types': ['administrative_area_level_2', 'political']}, {'long_name': 'Bihar', 'short_name': 'BR', 'types': ['administrative_area_level_1', 'political']}, {'long_name': 'India', 'short_name': 'IN', 'types': ['country', 'political']}], 'formatted_address': 'Begusarai, Bihar, India', 'geometry': {'bounds': {'northeast': {'lat': 25.4406042, 'lng': 86.1684587}, 'southwest': {'lat': 25.3950685, 'lng': 86.0816342}}, 'location': {'lat': 25.416675, 'lng': 86.1293792}, 'location_type': 'APPROXIMATE', 'viewport': {'northeast': {'lat': 25.4406042, 'lng': 86.1684587}, 'southwest': {'lat': 25.3950685, 'lng': 86.0816342}}}, 'place_id': 'ChIJPVAc188a8jkRWK41dqe8PrY', 'types': ['locality', 'political']}]\n",
      "14\n",
      "[{'address_components': [{'long_name': 'Pashchim Champaran', 'short_name': 'Pashchim Champaran', 'types': ['administrative_area_level_2', 'political']}, {'long_name': 'Bihar', 'short_name': 'BR', 'types': ['administrative_area_level_1', 'political']}, {'long_name': 'India', 'short_name': 'IN', 'types': ['country', 'political']}], 'formatted_address': 'Pashchim Champaran, Bihar, India', 'geometry': {'bounds': {'northeast': {'lat': 27.5180155, 'lng': 84.7639465}, 'southwest': {'lat': 26.582735, 'lng': 83.8345348}}, 'location': {'lat': 27.1543104, 'lng': 84.3542049}, 'location_type': 'APPROXIMATE', 'viewport': {'northeast': {'lat': 27.5180155, 'lng': 84.7639465}, 'southwest': {'lat': 26.582735, 'lng': 83.8345348}}}, 'place_id': 'ChIJ_bfXUrxukzkRZcjDfNOUVcQ', 'types': ['administrative_area_level_2', 'political']}]\n",
      "15\n",
      "[{'address_components': [{'long_name': 'Malkangiri', 'short_name': 'Malkangiri', 'types': ['administrative_area_level_2', 'political']}, {'long_name': 'Odisha', 'short_name': 'OD', 'types': ['administrative_area_level_1', 'political']}, {'long_name': 'India', 'short_name': 'IN', 'types': ['country', 'political']}], 'formatted_address': 'Malkangiri, Odisha, India', 'geometry': {'bounds': {'northeast': {'lat': 18.7307201, 'lng': 82.4331823}, 'southwest': {'lat': 17.811525, 'lng': 81.3907699}}, 'location': {'lat': 18.1640803, 'lng': 81.9534815}, 'location_type': 'APPROXIMATE', 'viewport': {'northeast': {'lat': 18.7307201, 'lng': 82.4331823}, 'southwest': {'lat': 17.811525, 'lng': 81.3907699}}}, 'place_id': 'ChIJV3ZTiF2hMDoR5sV95HGdr4k', 'types': ['administrative_area_level_2', 'political']}]\n",
      "16\n",
      "[{'address_components': [{'long_name': 'Koraput', 'short_name': 'Koraput', 'types': ['locality', 'political']}, {'long_name': 'Koraput', 'short_name': 'Koraput', 'types': ['administrative_area_level_2', 'political']}, {'long_name': 'Odisha', 'short_name': 'OD', 'types': ['administrative_area_level_1', 'political']}, {'long_name': 'India', 'short_name': 'IN', 'types': ['country', 'political']}], 'formatted_address': 'Koraput, Odisha, India', 'geometry': {'bounds': {'northeast': {'lat': 18.8275852, 'lng': 82.7241325}, 'southwest': {'lat': 18.7998806, 'lng': 82.6967525}}, 'location': {'lat': 18.813487, 'lng': 82.71233269999999}, 'location_type': 'APPROXIMATE', 'viewport': {'northeast': {'lat': 18.8275852, 'lng': 82.7241325}, 'southwest': {'lat': 18.7998806, 'lng': 82.6967525}}}, 'place_id': 'ChIJ6-BZw13wOjoR2-NMW31qm2U', 'types': ['locality', 'political']}]\n",
      "17\n",
      "[{'address_components': [{'long_name': 'Bargarh', 'short_name': 'Bargarh', 'types': ['locality', 'political']}, {'long_name': 'Bargarh', 'short_name': 'Bargarh', 'types': ['administrative_area_level_2', 'political']}, {'long_name': 'Odisha', 'short_name': 'OD', 'types': ['administrative_area_level_1', 'political']}, {'long_name': 'India', 'short_name': 'IN', 'types': ['country', 'political']}], 'formatted_address': 'Bargarh, Odisha, India', 'geometry': {'bounds': {'northeast': {'lat': 21.3798055, 'lng': 83.660005}, 'southwest': {'lat': 21.3165628, 'lng': 83.5991476}}, 'location': {'lat': 21.3425839, 'lng': 83.624201}, 'location_type': 'APPROXIMATE', 'viewport': {'northeast': {'lat': 21.3798055, 'lng': 83.660005}, 'southwest': {'lat': 21.3165628, 'lng': 83.5991476}}}, 'place_id': 'ChIJQw5KQ4hKIToRp0CZT747pCc', 'types': ['locality', 'political']}]\n",
      "18\n",
      "[{'address_components': [{'long_name': 'Rayagada', 'short_name': 'Rayagada', 'types': ['locality', 'political']}, {'long_name': 'Rayagada', 'short_name': 'Rayagada', 'types': ['administrative_area_level_2', 'political']}, {'long_name': 'Odisha', 'short_name': 'OD', 'types': ['administrative_area_level_1', 'political']}, {'long_name': 'India', 'short_name': 'IN', 'types': ['country', 'political']}], 'formatted_address': 'Rayagada, Odisha, India', 'geometry': {'bounds': {'northeast': {'lat': 19.1964859, 'lng': 83.4335232}, 'southwest': {'lat': 19.153479, 'lng': 83.3851147}}, 'location': {'lat': 19.171209, 'lng': 83.4163226}, 'location_type': 'APPROXIMATE', 'viewport': {'northeast': {'lat': 19.1964859, 'lng': 83.4335232}, 'southwest': {'lat': 19.153479, 'lng': 83.3851147}}}, 'place_id': 'ChIJx1-AkqVEOzoRnaEnk1zLxhk', 'types': ['locality', 'political']}]\n",
      "19\n",
      "[{'address_components': [{'long_name': 'Varanasi', 'short_name': 'Varanasi', 'types': ['locality', 'political']}, {'long_name': 'Varanasi', 'short_name': 'Varanasi', 'types': ['administrative_area_level_2', 'political']}, {'long_name': 'Uttar Pradesh', 'short_name': 'UP', 'types': ['administrative_area_level_1', 'political']}, {'long_name': 'India', 'short_name': 'IN', 'types': ['country', 'political']}], 'formatted_address': 'Varanasi, Uttar Pradesh, India', 'geometry': {'bounds': {'northeast': {'lat': 25.395665, 'lng': 83.0607605}, 'southwest': {'lat': 25.2458603, 'lng': 82.9214574}}, 'location': {'lat': 25.3176452, 'lng': 82.9739144}, 'location_type': 'APPROXIMATE', 'viewport': {'northeast': {'lat': 25.395665, 'lng': 83.0607605}, 'southwest': {'lat': 25.2458603, 'lng': 82.9214574}}}, 'place_id': 'ChIJTc_rb7ctjjkRtfA_hRAXE2g', 'types': ['locality', 'political']}]\n",
      "20\n",
      "[{'address_components': [{'long_name': 'Chandauli', 'short_name': 'Chandauli', 'types': ['administrative_area_level_2', 'political']}, {'long_name': 'Uttar Pradesh', 'short_name': 'UP', 'types': ['administrative_area_level_1', 'political']}, {'long_name': 'India', 'short_name': 'IN', 'types': ['country', 'political']}], 'formatted_address': 'Chandauli, Uttar Pradesh, India', 'geometry': {'bounds': {'northeast': {'lat': 25.5351101, 'lng': 83.5545199}, 'southwest': {'lat': 24.71728, 'lng': 83.00913}}, 'location': {'lat': 25.1793639, 'lng': 83.2934086}, 'location_type': 'APPROXIMATE', 'viewport': {'northeast': {'lat': 25.5351101, 'lng': 83.5545199}, 'southwest': {'lat': 24.71728, 'lng': 83.00913}}}, 'place_id': 'ChIJFx0HADQWjjkR4xu8_SVM97E', 'types': ['administrative_area_level_2', 'political']}]\n",
      "21\n",
      "[{'address_components': [{'long_name': 'Fatehabad', 'short_name': 'Fatehabad', 'types': ['locality', 'political']}, {'long_name': 'Fatehabad', 'short_name': 'Fatehabad', 'types': ['administrative_area_level_2', 'political']}, {'long_name': 'Haryana', 'short_name': 'HR', 'types': ['administrative_area_level_1', 'political']}, {'long_name': 'India', 'short_name': 'IN', 'types': ['country', 'political']}, {'long_name': '125050', 'short_name': '125050', 'types': ['postal_code']}], 'formatted_address': 'Fatehabad, Haryana 125050, India', 'geometry': {'bounds': {'northeast': {'lat': 29.527829, 'lng': 75.4980468}, 'southwest': {'lat': 29.4819894, 'lng': 75.4129584}}, 'location': {'lat': 29.5077159, 'lng': 75.4519516}, 'location_type': 'APPROXIMATE', 'viewport': {'northeast': {'lat': 29.527829, 'lng': 75.4980468}, 'southwest': {'lat': 29.4819894, 'lng': 75.4129584}}}, 'place_id': 'ChIJXYbs4cFlETkR63Qo3gisDMA', 'types': ['locality', 'political']}]\n"
     ]
    },
    {
     "name": "stdout",
     "output_type": "stream",
     "text": [
      "22\n",
      "[{'address_components': [{'long_name': 'Ambala', 'short_name': 'Ambala', 'types': ['locality', 'political']}, {'long_name': 'Ambala', 'short_name': 'Ambala', 'types': ['administrative_area_level_2', 'political']}, {'long_name': 'Haryana', 'short_name': 'HR', 'types': ['administrative_area_level_1', 'political']}, {'long_name': 'India', 'short_name': 'IN', 'types': ['country', 'political']}], 'formatted_address': 'Ambala, Haryana, India', 'geometry': {'bounds': {'northeast': {'lat': 30.40811699999999, 'lng': 76.81297289999999}, 'southwest': {'lat': 30.3361391, 'lng': 76.74188079999999}}, 'location': {'lat': 30.3752011, 'lng': 76.782122}, 'location_type': 'APPROXIMATE', 'viewport': {'northeast': {'lat': 30.40811699999999, 'lng': 76.81297289999999}, 'southwest': {'lat': 30.3361391, 'lng': 76.74188079999999}}}, 'place_id': 'ChIJEW8eQiq2DzkRFI0l9ymK0us', 'types': ['locality', 'political']}]\n",
      "23\n",
      "[{'address_components': [{'long_name': 'Gurdaspur', 'short_name': 'Gurdaspur', 'types': ['locality', 'political']}, {'long_name': 'Gurdaspur', 'short_name': 'Gurdaspur', 'types': ['administrative_area_level_2', 'political']}, {'long_name': 'Punjab', 'short_name': 'PB', 'types': ['administrative_area_level_1', 'political']}, {'long_name': 'India', 'short_name': 'IN', 'types': ['country', 'political']}, {'long_name': '143521', 'short_name': '143521', 'types': ['postal_code']}], 'formatted_address': 'Gurdaspur, Punjab 143521, India', 'geometry': {'bounds': {'northeast': {'lat': 32.0638554, 'lng': 75.4417115}, 'southwest': {'lat': 32.0214592, 'lng': 75.37511959999999}}, 'location': {'lat': 32.0419424, 'lng': 75.40533669999999}, 'location_type': 'APPROXIMATE', 'viewport': {'northeast': {'lat': 32.0638554, 'lng': 75.4417115}, 'southwest': {'lat': 32.0214592, 'lng': 75.37511959999999}}}, 'place_id': 'ChIJbW6vtG2SGzkRi_mgraua2i8', 'types': ['locality', 'political']}]\n",
      "24\n",
      "[{'address_components': [{'long_name': 'Rewari', 'short_name': 'Rewari', 'types': ['locality', 'political']}, {'long_name': 'Rewari', 'short_name': 'Rewari', 'types': ['administrative_area_level_2', 'political']}, {'long_name': 'Haryana', 'short_name': 'HR', 'types': ['administrative_area_level_1', 'political']}, {'long_name': 'India', 'short_name': 'IN', 'types': ['country', 'political']}, {'long_name': '123401', 'short_name': '123401', 'types': ['postal_code']}], 'formatted_address': 'Rewari, Haryana 123401, India', 'geometry': {'bounds': {'northeast': {'lat': 28.2179852, 'lng': 76.6502139}, 'southwest': {'lat': 28.1806896, 'lng': 76.59015649999999}}, 'location': {'lat': 28.1919738, 'lng': 76.6190774}, 'location_type': 'APPROXIMATE', 'viewport': {'northeast': {'lat': 28.2179852, 'lng': 76.6502139}, 'southwest': {'lat': 28.1806896, 'lng': 76.59015649999999}}}, 'place_id': 'ChIJUXXjmnFQDTkR7tyuT_xaxOQ', 'types': ['locality', 'political']}]\n",
      "25\n",
      "[{'address_components': [{'long_name': 'Bhiwani', 'short_name': 'Bhiwani', 'types': ['administrative_area_level_2', 'political']}, {'long_name': 'Haryana', 'short_name': 'HR', 'types': ['administrative_area_level_1', 'political']}, {'long_name': 'India', 'short_name': 'IN', 'types': ['country', 'political']}], 'formatted_address': 'Bhiwani, Haryana, India', 'geometry': {'bounds': {'northeast': {'lat': 29.0799999, 'lng': 76.46593}, 'southwest': {'lat': 28.34149, 'lng': 75.47577}}, 'location': {'lat': 28.7751693, 'lng': 75.9927652}, 'location_type': 'APPROXIMATE', 'viewport': {'northeast': {'lat': 29.0799999, 'lng': 76.46593}, 'southwest': {'lat': 28.34149, 'lng': 75.47577}}}, 'place_id': 'ChIJD7NvXCthEjkR4YodLjsetWA', 'types': ['administrative_area_level_2', 'political']}]\n",
      "26\n",
      "[{'address_components': [{'long_name': 'Kurukshetra', 'short_name': 'Kurukshetra', 'types': ['locality', 'political']}, {'long_name': 'Kurukshetra', 'short_name': 'Kurukshetra', 'types': ['administrative_area_level_2', 'political']}, {'long_name': 'Haryana', 'short_name': 'HR', 'types': ['administrative_area_level_1', 'political']}, {'long_name': 'India', 'short_name': 'IN', 'types': ['country', 'political']}], 'formatted_address': 'Kurukshetra, Haryana, India', 'geometry': {'bounds': {'northeast': {'lat': 29.9988004, 'lng': 76.93099029999999}, 'southwest': {'lat': 29.9397629, 'lng': 76.8328131}}, 'location': {'lat': 29.9695121, 'lng': 76.878282}, 'location_type': 'APPROXIMATE', 'viewport': {'northeast': {'lat': 29.9988004, 'lng': 76.93099029999999}, 'southwest': {'lat': 29.9397629, 'lng': 76.8328131}}}, 'place_id': 'ChIJPV3Ihc9GDjkR9DPKyhXoBn8', 'types': ['locality', 'political']}]\n",
      "27\n",
      "[{'address_components': [{'long_name': 'Jhajjar', 'short_name': 'Jhajjar', 'types': ['locality', 'political']}, {'long_name': 'Jhajjar', 'short_name': 'Jhajjar', 'types': ['administrative_area_level_2', 'political']}, {'long_name': 'Haryana', 'short_name': 'HR', 'types': ['administrative_area_level_1', 'political']}, {'long_name': 'India', 'short_name': 'IN', 'types': ['country', 'political']}], 'formatted_address': 'Jhajjar, Haryana, India', 'geometry': {'bounds': {'northeast': {'lat': 28.6221594, 'lng': 76.6786791}, 'southwest': {'lat': 28.5909194, 'lng': 76.63686349999999}}, 'location': {'lat': 28.6054875, 'lng': 76.6537749}, 'location_type': 'APPROXIMATE', 'viewport': {'northeast': {'lat': 28.6221594, 'lng': 76.6786791}, 'southwest': {'lat': 28.5909194, 'lng': 76.63686349999999}}}, 'place_id': 'ChIJOdW99GVwDTkRETakusE0_0U', 'types': ['locality', 'political']}]\n",
      "28\n",
      "[{'address_components': [{'long_name': 'Jind', 'short_name': 'Jind', 'types': ['locality', 'political']}, {'long_name': 'Jind', 'short_name': 'Jind', 'types': ['administrative_area_level_2', 'political']}, {'long_name': 'Haryana', 'short_name': 'HR', 'types': ['administrative_area_level_1', 'political']}, {'long_name': 'India', 'short_name': 'IN', 'types': ['country', 'political']}], 'formatted_address': 'Jind, Haryana, India', 'geometry': {'bounds': {'northeast': {'lat': 29.3503172, 'lng': 76.37678149999999}, 'southwest': {'lat': 29.2762174, 'lng': 76.2638283}}, 'location': {'lat': 29.325508, 'lng': 76.29979089999999}, 'location_type': 'APPROXIMATE', 'viewport': {'northeast': {'lat': 29.3503172, 'lng': 76.37678149999999}, 'southwest': {'lat': 29.2762174, 'lng': 76.2638283}}}, 'place_id': 'ChIJxZruD1YEEjkRsH23UN65J-Q', 'types': ['locality', 'political']}]\n",
      "29\n",
      "[{'address_components': [{'long_name': 'Kaithal', 'short_name': 'Kaithal', 'types': ['locality', 'political']}, {'long_name': 'Kaithal', 'short_name': 'Kaithal', 'types': ['administrative_area_level_2', 'political']}, {'long_name': 'Haryana', 'short_name': 'HR', 'types': ['administrative_area_level_1', 'political']}, {'long_name': 'India', 'short_name': 'IN', 'types': ['country', 'political']}, {'long_name': '136027', 'short_name': '136027', 'types': ['postal_code']}], 'formatted_address': 'Kaithal, Haryana 136027, India', 'geometry': {'bounds': {'northeast': {'lat': 29.82642, 'lng': 76.452484}, 'southwest': {'lat': 29.757299, 'lng': 76.3627053}}, 'location': {'lat': 29.7856734, 'lng': 76.39845369999999}, 'location_type': 'APPROXIMATE', 'viewport': {'northeast': {'lat': 29.82642, 'lng': 76.452484}, 'southwest': {'lat': 29.757299, 'lng': 76.3627053}}}, 'place_id': 'ChIJV0MVrI3gETkRlaP2IQxOMBY', 'types': ['locality', 'political']}]\n",
      "30\n",
      "[{'address_components': [{'long_name': 'Panipat', 'short_name': 'Panipat', 'types': ['locality', 'political']}, {'long_name': 'Panipat', 'short_name': 'Panipat', 'types': ['administrative_area_level_2', 'political']}, {'long_name': 'Haryana', 'short_name': 'HR', 'types': ['administrative_area_level_1', 'political']}, {'long_name': 'India', 'short_name': 'IN', 'types': ['country', 'political']}], 'formatted_address': 'Panipat, Haryana, India', 'geometry': {'bounds': {'northeast': {'lat': 29.4648592, 'lng': 77.0275498}, 'southwest': {'lat': 29.3278632, 'lng': 76.90069199999999}}, 'location': {'lat': 29.3909464, 'lng': 76.9635023}, 'location_type': 'APPROXIMATE', 'viewport': {'northeast': {'lat': 29.4648592, 'lng': 77.0275498}, 'southwest': {'lat': 29.3278632, 'lng': 76.90069199999999}}}, 'place_id': 'ChIJUeb7ekXaDTkR1HSqrP7200E', 'types': ['locality', 'political']}]\n",
      "31\n",
      "[{'address_components': [{'long_name': 'Saharanpur', 'short_name': 'Saharanpur', 'types': ['locality', 'political']}, {'long_name': 'Saharanpur', 'short_name': 'Saharanpur', 'types': ['administrative_area_level_2', 'political']}, {'long_name': 'Uttar Pradesh', 'short_name': 'UP', 'types': ['administrative_area_level_1', 'political']}, {'long_name': 'India', 'short_name': 'IN', 'types': ['country', 'political']}], 'formatted_address': 'Saharanpur, Uttar Pradesh, India', 'geometry': {'bounds': {'northeast': {'lat': 30.004268, 'lng': 77.6124}, 'southwest': {'lat': 29.9229989, 'lng': 77.5004546}}, 'location': {'lat': 29.9680035, 'lng': 77.55520659999999}, 'location_type': 'APPROXIMATE', 'viewport': {'northeast': {'lat': 30.004268, 'lng': 77.6124}, 'southwest': {'lat': 29.9229989, 'lng': 77.5004546}}}, 'place_id': 'ChIJRR-EH5LqDjkRH4EDCXivmwM', 'types': ['locality', 'political']}]\n"
     ]
    },
    {
     "name": "stdout",
     "output_type": "stream",
     "text": [
      "32\n",
      "[{'address_components': [{'long_name': 'Muzaffarnagar', 'short_name': 'Muzaffarnagar', 'types': ['locality', 'political']}, {'long_name': 'Muzaffarnagar', 'short_name': 'Muzaffarnagar', 'types': ['administrative_area_level_2', 'political']}, {'long_name': 'Uttar Pradesh', 'short_name': 'UP', 'types': ['administrative_area_level_1', 'political']}, {'long_name': 'India', 'short_name': 'IN', 'types': ['country', 'political']}], 'formatted_address': 'Muzaffarnagar, Uttar Pradesh, India', 'geometry': {'bounds': {'northeast': {'lat': 29.5018855, 'lng': 77.73914529999999}, 'southwest': {'lat': 29.4483659, 'lng': 77.67857029999999}}, 'location': {'lat': 29.4726817, 'lng': 77.7085091}, 'location_type': 'APPROXIMATE', 'viewport': {'northeast': {'lat': 29.5018855, 'lng': 77.73914529999999}, 'southwest': {'lat': 29.4483659, 'lng': 77.67857029999999}}}, 'place_id': 'ChIJPVKDCaAbDDkRcUhXCKBbp8Y', 'types': ['locality', 'political']}]\n",
      "33\n",
      "[{'address_components': [{'long_name': 'Hapur', 'short_name': 'Hapur', 'types': ['administrative_area_level_2', 'political']}, {'long_name': 'Uttar Pradesh', 'short_name': 'UP', 'types': ['administrative_area_level_1', 'political']}, {'long_name': 'India', 'short_name': 'IN', 'types': ['country', 'political']}], 'formatted_address': 'Hapur, Uttar Pradesh, India', 'geometry': {'bounds': {'northeast': {'lat': 28.88328, 'lng': 78.20118}, 'southwest': {'lat': 28.5491601, 'lng': 77.54221}}, 'location': {'lat': 28.7474998, 'lng': 78.0651931}, 'location_type': 'APPROXIMATE', 'viewport': {'northeast': {'lat': 28.88328, 'lng': 78.20118}, 'southwest': {'lat': 28.5491601, 'lng': 77.54221}}}, 'place_id': 'ChIJB8o3hhCFDDkRJj7WL7BBOeI', 'types': ['administrative_area_level_2', 'political']}]\n",
      "34\n",
      "[{'address_components': [{'long_name': 'Nirmal', 'short_name': 'Nirmal', 'types': ['locality', 'political']}, {'long_name': 'Adilabad', 'short_name': 'Adilabad', 'types': ['administrative_area_level_2', 'political']}, {'long_name': 'Telangana', 'short_name': 'Telangana', 'types': ['administrative_area_level_1', 'political']}, {'long_name': 'India', 'short_name': 'IN', 'types': ['country', 'political']}], 'formatted_address': 'Nirmal, Telangana, India', 'geometry': {'bounds': {'northeast': {'lat': 19.1142523, 'lng': 78.36912629999999}, 'southwest': {'lat': 19.0668637, 'lng': 78.3238506}}, 'location': {'lat': 19.0964117, 'lng': 78.342975}, 'location_type': 'APPROXIMATE', 'viewport': {'northeast': {'lat': 19.1142523, 'lng': 78.36912629999999}, 'southwest': {'lat': 19.0668637, 'lng': 78.3238506}}}, 'place_id': 'ChIJ2XRflYiLzTsR-lBtBreru1Y', 'types': ['locality', 'political']}]\n",
      "35\n",
      "[{'address_components': [{'long_name': 'Siddipet', 'short_name': 'Siddipet', 'types': ['locality', 'political']}, {'long_name': 'Medak', 'short_name': 'Medak', 'types': ['administrative_area_level_2', 'political']}, {'long_name': 'Telangana', 'short_name': 'Telangana', 'types': ['administrative_area_level_1', 'political']}, {'long_name': 'India', 'short_name': 'IN', 'types': ['country', 'political']}], 'formatted_address': 'Siddipet, Telangana, India', 'geometry': {'bounds': {'northeast': {'lat': 18.1258068, 'lng': 78.88377489999999}, 'southwest': {'lat': 18.077311, 'lng': 78.8146871}}, 'location': {'lat': 18.1019043, 'lng': 78.852077}, 'location_type': 'APPROXIMATE', 'viewport': {'northeast': {'lat': 18.1258068, 'lng': 78.88377489999999}, 'southwest': {'lat': 18.077311, 'lng': 78.8146871}}}, 'place_id': 'ChIJBbjttbKSzDsR5IweL6LPjkk', 'types': ['locality', 'political']}]\n",
      "36\n",
      "[{'address_components': [{'long_name': 'East Godavari', 'short_name': 'East Godavari', 'types': ['administrative_area_level_2', 'political']}, {'long_name': 'Andhra Pradesh', 'short_name': 'AP', 'types': ['administrative_area_level_1', 'political']}, {'long_name': 'India', 'short_name': 'IN', 'types': ['country', 'political']}], 'formatted_address': 'East Godavari, Andhra Pradesh, India', 'geometry': {'bounds': {'northeast': {'lat': 18.0137016, 'lng': 82.6047731}, 'southwest': {'lat': 16.301281, 'lng': 80.8758134}}, 'location': {'lat': 17.32125, 'lng': 82.0407137}, 'location_type': 'APPROXIMATE', 'viewport': {'northeast': {'lat': 18.0137016, 'lng': 82.6047731}, 'southwest': {'lat': 16.301281, 'lng': 80.8758134}}}, 'place_id': 'ChIJ97RZr90nODoRK6G-vlm6C2I', 'types': ['administrative_area_level_2', 'political']}]\n",
      "37\n",
      "[{'address_components': [{'long_name': 'Dausa', 'short_name': 'Dausa', 'types': ['locality', 'political']}, {'long_name': 'Dausa', 'short_name': 'Dausa', 'types': ['administrative_area_level_2', 'political']}, {'long_name': 'Rajasthan', 'short_name': 'RJ', 'types': ['administrative_area_level_1', 'political']}, {'long_name': 'India', 'short_name': 'IN', 'types': ['country', 'political']}, {'long_name': '303303', 'short_name': '303303', 'types': ['postal_code']}], 'formatted_address': 'Dausa, Rajasthan 303303, India', 'geometry': {'bounds': {'northeast': {'lat': 26.9291102, 'lng': 76.3912011}, 'southwest': {'lat': 26.8579207, 'lng': 76.294899}}, 'location': {'lat': 26.8996953, 'lng': 76.332411}, 'location_type': 'APPROXIMATE', 'viewport': {'northeast': {'lat': 26.9291102, 'lng': 76.3912011}, 'southwest': {'lat': 26.8579207, 'lng': 76.294899}}}, 'place_id': 'ChIJ7XL5KcaMbTkRUsaeTf_QE_s', 'types': ['locality', 'political']}]\n",
      "38\n",
      "[{'address_components': [{'long_name': 'Bharatpur', 'short_name': 'Bharatpur', 'types': ['locality', 'political']}, {'long_name': 'Bharatpur', 'short_name': 'Bharatpur', 'types': ['administrative_area_level_2', 'political']}, {'long_name': 'Rajasthan', 'short_name': 'RJ', 'types': ['administrative_area_level_1', 'political']}, {'long_name': 'India', 'short_name': 'IN', 'types': ['country', 'political']}], 'formatted_address': 'Bharatpur, Rajasthan, India', 'geometry': {'bounds': {'northeast': {'lat': 27.2497462, 'lng': 77.5362253}, 'southwest': {'lat': 27.1897351, 'lng': 77.4505234}}, 'location': {'lat': 27.2151863, 'lng': 77.5029996}, 'location_type': 'APPROXIMATE', 'viewport': {'northeast': {'lat': 27.2497462, 'lng': 77.5362253}, 'southwest': {'lat': 27.1897351, 'lng': 77.4505234}}}, 'place_id': 'ChIJb3NahAqjczkRCM7ukzUQD1o', 'types': ['locality', 'political']}]\n",
      "39\n",
      "[{'address_components': [{'long_name': 'Ajmer', 'short_name': 'Ajmer', 'types': ['locality', 'political']}, {'long_name': 'Ajmer', 'short_name': 'Ajmer', 'types': ['administrative_area_level_2', 'political']}, {'long_name': 'Rajasthan', 'short_name': 'RJ', 'types': ['administrative_area_level_1', 'political']}, {'long_name': 'India', 'short_name': 'IN', 'types': ['country', 'political']}], 'formatted_address': 'Ajmer, Rajasthan, India', 'geometry': {'bounds': {'northeast': {'lat': 26.5252392, 'lng': 74.7021311}, 'southwest': {'lat': 26.3812472, 'lng': 74.56929629999999}}, 'location': {'lat': 26.4498954, 'lng': 74.6399163}, 'location_type': 'APPROXIMATE', 'viewport': {'northeast': {'lat': 26.5252392, 'lng': 74.7021311}, 'southwest': {'lat': 26.3812472, 'lng': 74.56929629999999}}}, 'place_id': 'ChIJAc23_NjmazkR7gCB6xKPr8s', 'types': ['locality', 'political']}]\n",
      "40\n",
      "[{'address_components': [{'long_name': 'Banaskantha', 'short_name': 'Banaskantha', 'types': ['locality', 'political']}, {'long_name': 'Banaskantha', 'short_name': 'Banaskantha', 'types': ['administrative_area_level_2', 'political']}, {'long_name': 'Gujarat', 'short_name': 'GJ', 'types': ['administrative_area_level_1', 'political']}, {'long_name': 'India', 'short_name': 'IN', 'types': ['country', 'political']}, {'long_name': '385505', 'short_name': '385505', 'types': ['postal_code']}], 'formatted_address': 'Banaskantha, Gujarat 385505, India', 'geometry': {'bounds': {'northeast': {'lat': 24.309928, 'lng': 72.3536396}, 'southwest': {'lat': 24.3048238, 'lng': 72.34977719999999}}, 'location': {'lat': 24.3070289, 'lng': 72.3514618}, 'location_type': 'APPROXIMATE', 'viewport': {'northeast': {'lat': 24.309928, 'lng': 72.3536396}, 'southwest': {'lat': 24.3048238, 'lng': 72.34977719999999}}}, 'place_id': 'ChIJPT8Q2L7AXDkR4a4qZxnLsZc', 'types': ['locality', 'political']}]\n",
      "41\n",
      "[{'address_components': [{'long_name': 'Patan', 'short_name': 'Patan', 'types': ['locality', 'political']}, {'long_name': 'Patan', 'short_name': 'Patan', 'types': ['administrative_area_level_2', 'political']}, {'long_name': 'Gujarat', 'short_name': 'GJ', 'types': ['administrative_area_level_1', 'political']}, {'long_name': 'India', 'short_name': 'IN', 'types': ['country', 'political']}], 'formatted_address': 'Patan, Gujarat, India', 'geometry': {'bounds': {'northeast': {'lat': 23.8754781, 'lng': 72.1525382}, 'southwest': {'lat': 23.8208893, 'lng': 72.09211359999999}}, 'location': {'lat': 23.8493246, 'lng': 72.1266255}, 'location_type': 'APPROXIMATE', 'viewport': {'northeast': {'lat': 23.8754781, 'lng': 72.1525382}, 'southwest': {'lat': 23.8208893, 'lng': 72.09211359999999}}}, 'place_id': 'ChIJlVYRX5KHXDkRzvlPfAmxHW8', 'types': ['locality', 'political']}]\n"
     ]
    },
    {
     "name": "stdout",
     "output_type": "stream",
     "text": [
      "42\n",
      "[{'address_components': [{'long_name': 'Sabarkatha', 'short_name': 'Sabarkatha', 'types': ['administrative_area_level_2', 'political']}, {'long_name': 'Gujarat', 'short_name': 'GJ', 'types': ['administrative_area_level_1', 'political']}, {'long_name': 'India', 'short_name': 'IN', 'types': ['country', 'political']}], 'formatted_address': 'Sabarkatha, Gujarat, India', 'geometry': {'bounds': {'northeast': {'lat': 24.49811, 'lng': 73.42267989999999}, 'southwest': {'lat': 23.2382799, 'lng': 72.72424}}, 'location': {'lat': 23.8476704, 'lng': 72.99329689999999}, 'location_type': 'APPROXIMATE', 'viewport': {'northeast': {'lat': 24.49811, 'lng': 73.42267989999999}, 'southwest': {'lat': 23.2382799, 'lng': 72.72424}}}, 'place_id': 'ChIJOSjsP-y4XTkR8y61xl5GUHk', 'types': ['administrative_area_level_2', 'political']}]\n",
      "43\n",
      "[{'address_components': [{'long_name': 'Gandhinagar', 'short_name': 'Gandhinagar', 'types': ['locality', 'political']}, {'long_name': 'Gandhinagar', 'short_name': 'Gandhinagar', 'types': ['administrative_area_level_2', 'political']}, {'long_name': 'Gujarat', 'short_name': 'GJ', 'types': ['administrative_area_level_1', 'political']}, {'long_name': 'India', 'short_name': 'IN', 'types': ['country', 'political']}], 'formatted_address': 'Gandhinagar, Gujarat, India', 'geometry': {'bounds': {'northeast': {'lat': 23.2758847, 'lng': 72.6881217}, 'southwest': {'lat': 23.1655347, 'lng': 72.6029745}}, 'location': {'lat': 23.2156354, 'lng': 72.63694149999999}, 'location_type': 'APPROXIMATE', 'viewport': {'northeast': {'lat': 23.2758847, 'lng': 72.6881217}, 'southwest': {'lat': 23.1655347, 'lng': 72.6029745}}}, 'place_id': 'ChIJCWhtfJgrXDkRkQM-h6cGb_g', 'types': ['locality', 'political']}]\n",
      "44\n",
      "[{'address_components': [{'long_name': 'Mehsana', 'short_name': 'Mehsana', 'types': ['locality', 'political']}, {'long_name': 'Mehsana', 'short_name': 'Mehsana', 'types': ['administrative_area_level_2', 'political']}, {'long_name': 'Gujarat', 'short_name': 'GJ', 'types': ['administrative_area_level_1', 'political']}, {'long_name': 'India', 'short_name': 'IN', 'types': ['country', 'political']}], 'formatted_address': 'Mehsana, Gujarat, India', 'geometry': {'bounds': {'northeast': {'lat': 23.6264519, 'lng': 72.4232268}, 'southwest': {'lat': 23.5532921, 'lng': 72.3427311}}, 'location': {'lat': 23.5879607, 'lng': 72.36932519999999}, 'location_type': 'APPROXIMATE', 'viewport': {'northeast': {'lat': 23.6264519, 'lng': 72.4232268}, 'southwest': {'lat': 23.5532921, 'lng': 72.3427311}}}, 'place_id': 'ChIJ9Z54ryxCXDkR3Iu-uJC8Cxc', 'types': ['locality', 'political']}]\n",
      "45\n",
      "[{'address_components': [{'long_name': 'Aravalli Range', 'short_name': 'Aravalli Range', 'types': ['establishment', 'natural_feature']}, {'long_name': 'India', 'short_name': 'IN', 'types': ['country', 'political']}], 'formatted_address': 'Aravalli Range', 'geometry': {'bounds': {'northeast': {'lat': 28.1257882, 'lng': 76.82931909999999}, 'southwest': {'lat': 23.6501946, 'lng': 72.4961581}}, 'location': {'lat': 25.2234975, 'lng': 73.7477857}, 'location_type': 'APPROXIMATE', 'viewport': {'northeast': {'lat': 28.1257882, 'lng': 76.82931909999999}, 'southwest': {'lat': 23.6501946, 'lng': 72.4961581}}}, 'place_id': 'ChIJJb4wrNodaDkRdE9DcIz-vFE', 'types': ['establishment', 'natural_feature']}]\n"
     ]
    }
   ],
   "source": [
    "# Geocode each of the 51 districts in bounding boxes\n",
    "for index, row in districts.iterrows():\n",
    "    components = dict()\n",
    "    components['country'] = 'India'\n",
    "    district_info = gmaps.geocode(row['District Name'], components=components)\n",
    "    district_info = district_info[0]['geometry']['bounds']\n",
    "    lat_min = district_info['southwest']['lat']\n",
    "    districts.at[index, 'Lat Min'] = lat_min\n",
    "    lat_max = district_info['northeast']['lat']\n",
    "    districts.at[index, 'Lat Max'] = lat_max\n",
    "    lng_min = district_info['northeast']['lng']\n",
    "    districts.at[index, 'Long Min'] = lng_min\n",
    "    lng_max = district_info['southwest']['lng']\n",
    "    districts.at[index, 'Long Max'] = lng_max"
   ]
  },
  {
   "cell_type": "code",
   "execution_count": 213,
   "metadata": {
    "pycharm": {
     "is_executing": false,
     "name": "#%%\n"
    }
   },
   "outputs": [],
   "source": [
    "# Determine the center of each of the 51 districts\n",
    "for index, row in districts.iterrows():\n",
    "    lat_center = (row['Lat Min'] + row['Lat Max']) / 2\n",
    "    districts.at[index, 'Lat Center'] = lat_center\n",
    "    lng_center = (row['Long Min'] + row['Long Max']) / 2\n",
    "    districts.at[index, 'Long Center'] = lng_center"
   ]
  },
  {
   "cell_type": "code",
   "execution_count": 56,
   "metadata": {
    "pycharm": {
     "is_executing": false,
     "name": "#%%\n"
    }
   },
   "outputs": [],
   "source": [
    "# Update csv\n",
    "districts.to_csv('district_list_new.csv')"
   ]
  },
  {
   "cell_type": "code",
   "execution_count": 146,
   "metadata": {},
   "outputs": [],
   "source": [
    "# Find 4 nearest readings to a given's district's center\n",
    "def nearest_readings(df, lat, lng):\n",
    "    # Determine the 2 closest lat values\n",
    "    lat_filters = df.iloc[(df[0]-lat).abs().argsort()[:2]][0].values.tolist()\n",
    "    df_lat_filtered = df.loc[df[0].isin(lat_filters)]\n",
    "    # Determine the 2 closest lat values\n",
    "    df_lat_long_filtered = df_lat_filtered.iloc[(df_lat_filtered[1]-lng).abs().argsort()[:4]]\n",
    "    return df_lat_long_filtered"
   ]
  },
  {
   "cell_type": "code",
   "execution_count": 144,
   "metadata": {},
   "outputs": [],
   "source": [
    "def file_name_for_year(year):\n",
    "    return 'precip.' + str(year) + '.txt'"
   ]
  },
  {
   "cell_type": "code",
   "execution_count": 217,
   "metadata": {},
   "outputs": [],
   "source": [
    "# Configure output format\n",
    "district_avg_precips = pd.DataFrame(columns=['District Name', 'January', 'February', 'March', 'April', 'May', 'June', 'July', 'August', 'September', 'October', 'November', 'December'])"
   ]
  },
  {
   "cell_type": "code",
   "execution_count": 218,
   "metadata": {
    "scrolled": true
   },
   "outputs": [],
   "source": [
    "# Main script\n",
    "for year in range(2010, 2018):\n",
    "    year_data = pd.read_csv(file_name_for_year(year), delim_whitespace=True, header=None)\n",
    "    for index, district in districts.iterrows():\n",
    "        district_lat = district['Lat Center']\n",
    "        district_lng = district['Long Center']\n",
    "        district_points = nearest_readings(year_data, district_lat, district_lng)\n",
    "        district_points = district_points.append({0:district_lat, 1:district_lng}, ignore_index=True)\n",
    "        for month in range(2,14):\n",
    "            # Determine the monthly rainfall for a given district by averaging the four nearest readings\n",
    "            interpolated_precip = mean(district_points[month].values.tolist()[:-1])\n",
    "            district_points.at[4, month] = interpolated_precip\n",
    "        district_avg_precips = district_avg_precips.append({\n",
    "            'District Name': str(district['District Name'] + str(year)),\n",
    "            'January': district_points[2][4],\n",
    "            'February': district_points[3][4],\n",
    "            'March': district_points[4][4],\n",
    "            'April': district_points[5][4],\n",
    "            'May': district_points[6][4],\n",
    "            'June': district_points[7][4],\n",
    "            'July': district_points[8][4],\n",
    "            'August': district_points[9][4],\n",
    "            'September': district_points[10][4],\n",
    "            'October': district_points[11][4],\n",
    "            'November': district_points[12][4],\n",
    "            'December': district_points[13][4]\n",
    "\n",
    "        }, ignore_index=True)\n",
    "        "
   ]
  },
  {
   "cell_type": "code",
   "execution_count": 219,
   "metadata": {},
   "outputs": [],
   "source": [
    "# Export output\n",
    "district_avg_precips.to_csv('district_avg_precips.csv')"
   ]
  }
 ],
 "metadata": {
  "kernelspec": {
   "display_name": "Python 3",
   "language": "python",
   "name": "python3"
  },
  "language_info": {
   "codemirror_mode": {
    "name": "ipython",
    "version": 3
   },
   "file_extension": ".py",
   "mimetype": "text/x-python",
   "name": "python",
   "nbconvert_exporter": "python",
   "pygments_lexer": "ipython3",
   "version": "3.7.0"
  },
  "pycharm": {
   "stem_cell": {
    "cell_type": "raw",
    "metadata": {
     "collapsed": false
    },
    "source": []
   }
  }
 },
 "nbformat": 4,
 "nbformat_minor": 1
}
